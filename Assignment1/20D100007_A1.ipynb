{
  "nbformat": 4,
  "nbformat_minor": 0,
  "metadata": {
    "colab": {
      "provenance": []
    },
    "kernelspec": {
      "name": "python3",
      "display_name": "Python 3"
    },
    "language_info": {
      "name": "python"
    }
  },
  "cells": [
    {
      "cell_type": "code",
      "execution_count": 50,
      "metadata": {
        "id": "QtAd0MEVzIds"
      },
      "outputs": [],
      "source": [
        "def get_primenumbers(n):\n",
        "    \n",
        "    if type(n) == str:   #the cases possible if the type of n is string\n",
        "      try:\n",
        "        if type(float(n)) == float:    #trying to check float first \n",
        "          n = float(n)  #it it is float then eventually we will convert it to int form and will go ahead with that\n",
        "          n = int(n)\n",
        "        if type(int(n)) == int:      # trying to check int \n",
        "          n = int(n)      #if it is int then we will move forward with that\n",
        "      except:    \n",
        "          return \"You have entered wrong input\"\n",
        "      \n",
        "        \n",
        "    if n < 0:    # if the n is less than 0 then we will rreturnerror massage\n",
        "      return 'You have entered wrong input'\n",
        "    if n <= 2:\n",
        "      return []\n",
        "\n",
        "    if type(n) == float:\n",
        "      n = int(n)\n",
        "\n",
        "    final =[]\n",
        "    for i in range(2,n): #n=7 #  2,3,4,5,6....\n",
        "      count = 0\n",
        "      for j in range(2,i):   #if 6 then 2,3,4,5\n",
        "        if i%j == 0:\n",
        "          count = count + 1\n",
        "      if count == 0:\n",
        "        final.append(i)\n",
        "    return final\n",
        "         \n",
        "          \n",
        "\n",
        "           \n",
        "\n",
        "               \n"
      ]
    },
    {
      "cell_type": "code",
      "source": [
        "get_primenumbers(\"9.6\")"
      ],
      "metadata": {
        "colab": {
          "base_uri": "https://localhost:8080/"
        },
        "id": "oVtsa5v_zjtd",
        "outputId": "6f9660b5-6096-4ec3-a51e-cfc8e2672d05"
      },
      "execution_count": 51,
      "outputs": [
        {
          "output_type": "execute_result",
          "data": {
            "text/plain": [
              "[2, 3, 5, 7]"
            ]
          },
          "metadata": {},
          "execution_count": 51
        }
      ]
    },
    {
      "cell_type": "code",
      "source": [
        "n = int(input())  #number of rings\n",
        "step = 0  #to keep track of step in recursion \n",
        "print(\"Initial condition = {} {} {}\".format([i for i in range(n,0,-1)], [], [])) #initial situaltion \n",
        "def TOH(n, i = 'A', j = 'B', k = 'C', v = {'A': [i for i in range(n,0,-1)], 'B': [], 'C': []}): \n",
        "  \"\"\"\n",
        "  defining a function which will take n,\n",
        "  i-Represents the peg on which the rings are stacked initially,\n",
        "  j-Represents the auxiliary peg\n",
        "  k-Represents the peg on which the rings are to be shifted    \n",
        "  v-Represents a dictionary which keeps the data of pegs\n",
        "  \"\"\" \n",
        "  global step\n",
        "  #recursion target condition \n",
        "  if n == 1:\n",
        "    v[j].append(v[i].pop())   #according to recursive target condition, there would be 1 disk only which we will move to his adjecent once  \n",
        "    step += 1     #increment in steps\n",
        "    print(\"Step {} = {} {} {}\".format(step, v['A'], v['B'], v['C']))  #situation at the end of each step\n",
        "    return\n",
        "  #on each step, the Number of rings decreses with 1, and eventually meet the recursive condition\n",
        "  TOH(n-1, i, k, j)    #k becomes auxiliary peg and j become ring on which the ring will be shifted\n",
        "  v[j].append(v[i].pop())   #ring shifting from i to j peg\n",
        "  step += 1  #step increment\n",
        "  print(\"Step {} = {} {} {}\".format(step, v['A'], v['B'], v['C']))  #situation at the end of step\n",
        "  TOH(n-1, k, j, i)   #k becomes the initial peg, j auxiliary and, i on which rings are to be shifted\n",
        "TOH(n) "
      ],
      "metadata": {
        "colab": {
          "base_uri": "https://localhost:8080/"
        },
        "id": "p9r7qVrmJuBa",
        "outputId": "51ecec3f-de46-4fc1-e582-d399a8b0b8bb"
      },
      "execution_count": 52,
      "outputs": [
        {
          "output_type": "stream",
          "name": "stdout",
          "text": [
            "6\n",
            "Initial condition = [6, 5, 4, 3, 2, 1] [] []\n",
            "Step 1 = [6, 5, 4, 3, 2] [] [1]\n",
            "Step 2 = [6, 5, 4, 3] [2] [1]\n",
            "Step 3 = [6, 5, 4, 3] [2, 1] []\n",
            "Step 4 = [6, 5, 4] [2, 1] [3]\n",
            "Step 5 = [6, 5, 4, 1] [2] [3]\n",
            "Step 6 = [6, 5, 4, 1] [] [3, 2]\n",
            "Step 7 = [6, 5, 4] [] [3, 2, 1]\n",
            "Step 8 = [6, 5] [4] [3, 2, 1]\n",
            "Step 9 = [6, 5] [4, 1] [3, 2]\n",
            "Step 10 = [6, 5, 2] [4, 1] [3]\n",
            "Step 11 = [6, 5, 2, 1] [4] [3]\n",
            "Step 12 = [6, 5, 2, 1] [4, 3] []\n",
            "Step 13 = [6, 5, 2] [4, 3] [1]\n",
            "Step 14 = [6, 5] [4, 3, 2] [1]\n",
            "Step 15 = [6, 5] [4, 3, 2, 1] []\n",
            "Step 16 = [6] [4, 3, 2, 1] [5]\n",
            "Step 17 = [6, 1] [4, 3, 2] [5]\n",
            "Step 18 = [6, 1] [4, 3] [5, 2]\n",
            "Step 19 = [6] [4, 3] [5, 2, 1]\n",
            "Step 20 = [6, 3] [4] [5, 2, 1]\n",
            "Step 21 = [6, 3] [4, 1] [5, 2]\n",
            "Step 22 = [6, 3, 2] [4, 1] [5]\n",
            "Step 23 = [6, 3, 2, 1] [4] [5]\n",
            "Step 24 = [6, 3, 2, 1] [] [5, 4]\n",
            "Step 25 = [6, 3, 2] [] [5, 4, 1]\n",
            "Step 26 = [6, 3] [2] [5, 4, 1]\n",
            "Step 27 = [6, 3] [2, 1] [5, 4]\n",
            "Step 28 = [6] [2, 1] [5, 4, 3]\n",
            "Step 29 = [6, 1] [2] [5, 4, 3]\n",
            "Step 30 = [6, 1] [] [5, 4, 3, 2]\n",
            "Step 31 = [6] [] [5, 4, 3, 2, 1]\n",
            "Step 32 = [] [6] [5, 4, 3, 2, 1]\n",
            "Step 33 = [] [6, 1] [5, 4, 3, 2]\n",
            "Step 34 = [2] [6, 1] [5, 4, 3]\n",
            "Step 35 = [2, 1] [6] [5, 4, 3]\n",
            "Step 36 = [2, 1] [6, 3] [5, 4]\n",
            "Step 37 = [2] [6, 3] [5, 4, 1]\n",
            "Step 38 = [] [6, 3, 2] [5, 4, 1]\n",
            "Step 39 = [] [6, 3, 2, 1] [5, 4]\n",
            "Step 40 = [4] [6, 3, 2, 1] [5]\n",
            "Step 41 = [4, 1] [6, 3, 2] [5]\n",
            "Step 42 = [4, 1] [6, 3] [5, 2]\n",
            "Step 43 = [4] [6, 3] [5, 2, 1]\n",
            "Step 44 = [4, 3] [6] [5, 2, 1]\n",
            "Step 45 = [4, 3] [6, 1] [5, 2]\n",
            "Step 46 = [4, 3, 2] [6, 1] [5]\n",
            "Step 47 = [4, 3, 2, 1] [6] [5]\n",
            "Step 48 = [4, 3, 2, 1] [6, 5] []\n",
            "Step 49 = [4, 3, 2] [6, 5] [1]\n",
            "Step 50 = [4, 3] [6, 5, 2] [1]\n",
            "Step 51 = [4, 3] [6, 5, 2, 1] []\n",
            "Step 52 = [4] [6, 5, 2, 1] [3]\n",
            "Step 53 = [4, 1] [6, 5, 2] [3]\n",
            "Step 54 = [4, 1] [6, 5] [3, 2]\n",
            "Step 55 = [4] [6, 5] [3, 2, 1]\n",
            "Step 56 = [] [6, 5, 4] [3, 2, 1]\n",
            "Step 57 = [] [6, 5, 4, 1] [3, 2]\n",
            "Step 58 = [2] [6, 5, 4, 1] [3]\n",
            "Step 59 = [2, 1] [6, 5, 4] [3]\n",
            "Step 60 = [2, 1] [6, 5, 4, 3] []\n",
            "Step 61 = [2] [6, 5, 4, 3] [1]\n",
            "Step 62 = [] [6, 5, 4, 3, 2] [1]\n",
            "Step 63 = [] [6, 5, 4, 3, 2, 1] []\n"
          ]
        }
      ]
    },
    {
      "cell_type": "code",
      "source": [],
      "metadata": {
        "id": "r35oYmD8SGkL"
      },
      "execution_count": 52,
      "outputs": []
    }
  ]
}
