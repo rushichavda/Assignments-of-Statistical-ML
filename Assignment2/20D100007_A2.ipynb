{
  "cells": [
    {
      "cell_type": "markdown",
      "metadata": {
        "id": "3zjRuf6pt03b"
      },
      "source": [
        "## Assignment 2  ME 781  (Data Scale)"
      ]
    },
    {
      "cell_type": "markdown",
      "metadata": {
        "id": "-WFqIO9-t03i"
      },
      "source": [
        "### Perform the following tasks in sequence:\n",
        "\n",
        "1. Create a list of 5 open data sets available for machine learning along with their links for each of the three Data Types (Discrete data Type, Sequential (temporal) data Type and Spatial data Type)\n",
        "\n",
        "\n",
        "2. Write a python code to input a dataset (csv file) of Discrete data type, automatically identify and print the\n",
        "\n",
        "    a. Number of attributes and number of entries\n",
        "    \n",
        "    b. Data scale of each attribute\n",
        "    \n",
        "    c. Data value of each attribute\n",
        "\n",
        "\n",
        "3.      Write a python code to perform statistics on each data column based on its data scale.\n",
        "\n",
        "\n",
        "4.      Can we use a box plot for visualizing ordinal data? (Yes/No). Explain why. \n",
        "\n",
        "![MicrosoftTeams-image2.png](attachment:MicrosoftTeams-image2.png)\n",
        "\n",
        "\n",
        "5.      Write a python code to visualize data in the csv file (a generalized method depending upon data scale) \n",
        "\n",
        "    Assignment instructions:\n",
        "    1. Naming convention: Please name your colab files as rollnumber_A2.ipynb. \n",
        "    2. Learn how to use markdown to add texts in colab to make your code interactive and understandable. \n",
        "    3. After completion of your assignment download the file as .ipynb and submit itusing Teams assignment tab."
      ]
    },
    {
      "cell_type": "markdown",
      "metadata": {
        "id": "lwtB59Qot03k"
      },
      "source": [
        "  ###  We have a software to check plagiarism in code, if anyone found copying the code, strict action will be taken against such students and can also be given FR grade directly.\n",
        "    \n",
        "  We  expect  you  to  upload  colab  notebooks  when  you  are  required  to  turn  your  programming assignments.  Please  make  sure  that  you  provide  enough  comments  in  the  code  for  the TAs to understand \n",
        "       "
      ]
    },
    {
      "cell_type": "markdown",
      "metadata": {
        "id": "c7Qx8F_4t03l"
      },
      "source": [
        "### Libraries"
      ]
    },
    {
      "cell_type": "code",
      "execution_count": 11,
      "metadata": {
        "id": "1UhQ7R2It03m"
      },
      "outputs": [],
      "source": [
        "import numpy as np\n",
        "import pandas as pd\n",
        "import matplotlib.pyplot as plt\n",
        "import seaborn as sns \n",
        "import requests"
      ]
    },
    {
      "cell_type": "markdown",
      "metadata": {
        "id": "B01TFft9t03p"
      },
      "source": [
        "### 1. List of 5 open Data sets"
      ]
    },
    {
      "cell_type": "code",
      "execution_count": 22,
      "metadata": {
        "id": "M85rnpSKt03q"
      },
      "outputs": [],
      "source": [
        "## Paste the URLs of open datasets here and add comments describing the dataset\n",
        "\n",
        "# The dataset below has six input features (both numerical and categorical) describing a star.\n",
        "# The dataset is used for the task of predicting star-type (multi-class classification).\n",
        "# Since the order of collection of features for a particular data-point doesn't matter,\n",
        "# and since there is no order between data-points, this dataset is of DISCRETE DATATYPE.\n",
        "url1 = \"https://www.kaggle.com/deepu1109/star-dataset\"\n",
        "\n",
        "## The English Penn Treebank (PTB) corpus is used for tasks like sequence labeling, Part-of-Speech tagging, and\n",
        "# for character-level and word-level Language Modelling. Thus, the dataset is clearly of the SEQUENCIAL DATATYPE\n",
        "# , as the order of collection of words in the corpus matters, and is also one-directional in nature.\n",
        "url2 = \"https://paperswithcode.com/dataset/penn-treebank\"\n",
        "\n",
        "# Stanford Question Answering Dataset (SQuAD) is a reading comprehension dataset where the main task is\n",
        "# to answer questions posed from the passage using a span of text from the passage itself. Since this dataset is\n",
        "# also language-based, it is of the SEQUENCIAL DATATYPE, as the order of words in the passages\n",
        "# matters, and the collection is one-directional in nature.\n",
        "url3 = \"https://rajpurkar.github.io/SQuAD-explorer/\"\n",
        "\n",
        "# The CIFAR-10 dataset contains tiny images from 10 classes for the image classification task. Due to its\n",
        "# lightweight nature, it is often the first choice for quick testing of new models / techniques or for\n",
        "# educational purposes. This dataset is of SPECIAL DATATYPE type as it consists of images, which have a \n",
        "# multi-dimensional order of collection.\n",
        "url4 = \"https://www.cs.toronto.edu/~kriz/cifar.html\"\n",
        "\n",
        "# ImageNet is the most famous benchmark for image classification and object detection. This dataset is also\n",
        "# of SPATIAL DATATYPE as it consists of images, which have a multi-dimensional order of collection.\n",
        "url5 = \"https://image-net.org/challenges/LSVRC/\""
      ]
    },
    {
      "cell_type": "code",
      "source": [],
      "metadata": {
        "id": "_Yz59tZ8gOVx"
      },
      "execution_count": null,
      "outputs": []
    },
    {
      "cell_type": "markdown",
      "metadata": {
        "id": "lMzZ0Ldzt03t"
      },
      "source": [
        "### 2.   Write a python code to input a dataset (csv file) of Discrete datatype, automatically identify and print the\n",
        "\n",
        "    a. Number of attributes and number of data points\n",
        "    \n",
        "    b. Data scale of each attribute\n",
        "    \n",
        "    c. Data value of each attribute"
      ]
    },
    {
      "cell_type": "markdown",
      "metadata": {
        "id": "meUWF00Yt03v"
      },
      "source": [
        "#### Note: The number of categories for categorical (nominal,ordinal) data scale for the evaluating datasets is not greater than 8."
      ]
    },
    {
      "cell_type": "code",
      "execution_count": 63,
      "metadata": {
        "id": "TwNAn-M6t03w"
      },
      "outputs": [],
      "source": [
        "def data_description(filename,isprint=True):\n",
        "    ## Write a well commented function that inputs dataset file location (.csv file) and outputs the following\n",
        "    ## 1. data_scale (of length = number of attributes)\n",
        "    ## 2. data_value (of length = number of attributes)\n",
        "    ## 3. imported dataset for later use\n",
        "    ## It should also print those details for each attribute(Output must be similar to what is mentioned below)\n",
        "    \n",
        "    '''\n",
        "    Args:\n",
        "    filename(str): path or name of file\n",
        "    verbose(bool,optional) : function don't print t\n",
        "    '''\n",
        "    data = pd.read_csv(filename)\n",
        "    if isprint:\n",
        "        print(f\"This Dataset Contains {len(data)} entries, each with {len(data.columns)} Attributes\")\n",
        "     \n",
        "    data_scale, data_value = {},{}\n",
        "    for i,attribute in enumerate(data.columns):\n",
        "        if len(data[attribute].unique()) < 8:\n",
        "            if data[attribute].dtype == object :\n",
        "              scale = \"nominal\"\n",
        "            else: \n",
        "              scale = \"ordinal\"\n",
        "            t = \"discrete\"\n",
        "\n",
        "        else:\n",
        "           scale = \"ratio\"\n",
        "           if \"float\" in str(data[attribute].dtype).lower():\n",
        "             t = \"continuous\" \n",
        "           else:\n",
        "             t = \"discrete\"\n",
        "        data_scale[attribute], data_value[attribute] = scale, t\n",
        "        if isprint:\n",
        "           print(f'{i} {attribute} : {scale}, {t}')\n",
        "    \n",
        "    return data_scale, data_value, data"
      ]
    },
    {
      "cell_type": "code",
      "source": [
        "data_scale, data_value, data = data_description(\"/content/drive/MyDrive/ME781/Assignment-2/A2_example_dataset - students_demo_debae1c8ec9dfd7d35c9cbba87d8dee8.csv\")"
      ],
      "metadata": {
        "colab": {
          "base_uri": "https://localhost:8080/"
        },
        "id": "rFYTFLFDuCKS",
        "outputId": "77e4ceac-f781-4585-9617-cb061a9aeae5"
      },
      "execution_count": 48,
      "outputs": [
        {
          "output_type": "stream",
          "name": "stdout",
          "text": [
            "This Dataset Contains 649 entries, each with 6 Attributes\n",
            "0 gender : nominal, discrete\n",
            "1 age : ratio, discrete\n",
            "2 health_rating : ordinal, discrete\n",
            "3 StudentIQ : ratio, discrete\n",
            "4 no_of_courses : ratio, discrete\n",
            "5 Marks : ratio, continuous\n"
          ]
        }
      ]
    },
    {
      "cell_type": "markdown",
      "metadata": {
        "id": "JqKxl26ft03x"
      },
      "source": [
        "    Output must similar to this:\n",
        "    \n",
        "    This dataset contains 649 entries, each with 6 attributes\n",
        "\n",
        "    0 gender : nominal, discrete\n",
        "    1 age : ratio, discrete\n",
        "    2 health_rating : ordinal, discrete\n",
        "    3 StudentIQ : ratio, discrete\n",
        "    4 no_of_courses : ratio, discrete\n",
        "    5 Marks : ratio, continuous\n"
      ]
    },
    {
      "cell_type": "markdown",
      "metadata": {
        "id": "hoMsWnHHt03y"
      },
      "source": [
        "### 3. Write a python code to perform statistics on each data column based on its data scale."
      ]
    },
    {
      "cell_type": "code",
      "execution_count": 64,
      "metadata": {
        "id": "jbSTlHpZt03z"
      },
      "outputs": [],
      "source": [
        "def stats(filename):\n",
        "    ## Write a well commented function that calls the function data_description and prints\n",
        "    ## relevant statistics based on data scale.\n",
        "    ## Hint: Explore describe()\n",
        "\n",
        "    \"\"\"Prints attribute-level summary of input data.\n",
        "\n",
        "    Args:\n",
        "        filename (str): path of file for which data stats are needed\n",
        "    \"\"\"\n",
        "    data_scale, _ , data = data_description(filename,isprint=False)    #output of data_description is stored\n",
        "    D = data.describe()      #describe as Dataframe names D\n",
        "\n",
        "    def print_nominal_stats(attribute):      #Defining function to describe nominal datatype columns\n",
        "        \"\"\"Generates stats for nominal and ordinal data scales.\n",
        "           1)mode\n",
        "           2)median\n",
        "        \"\"\"        \n",
        "        print('mode', data[attribute].mode()[0])    #Printing mode\n",
        "        if data_scale[attribute] == 'ordinal':   #if  attribute is ordinal then median also can be a stat\n",
        "            print('median', data[attribute].median())  #Printing median\n",
        "        print(data[attribute].value_counts().sort_index())\n",
        "\n",
        "    def print_ratio_stats(attribute):        #Defining function to describe nominal datatype columns\n",
        "        \"\"\"Generates stats for ratio data scale.\n",
        "            1)mean      \n",
        "            2)std       \n",
        "            3)min       \n",
        "            4)25%       \n",
        "            5)median    \n",
        "            6)75%       \n",
        "            7)max       \n",
        "        \"\"\"\n",
        "        data1 = D[attribute].copy()            \n",
        "        data1.index = ['mode', 'mean', 'std', 'min', '25%', 'median', '75%', 'max']\n",
        "        data1['mode'] = data[attribute].mode()[0]\n",
        "        print(data1)\n",
        "    \n",
        "    #After defining Individual Function for datatypes, Now this loop below will print all the\n",
        "    #Stat-corresponding to its datatype\n",
        "    for attribute in data.columns:\n",
        "        print(attribute)\n",
        "        if data_scale[attribute] in {'nominal', 'ordinal'}:\n",
        "            print_nominal_stats(attribute) # get norminal / ordinal data stats\n",
        "        else:\n",
        "            print_ratio_stats(attribute) # get ratio data stats\n",
        "        print()    # to put blank line between two data description\n",
        "    return\n",
        "    "
      ]
    },
    {
      "cell_type": "code",
      "source": [
        "stats(\"/content/drive/MyDrive/ME781/Assignment-2/A2_example_dataset - students_demo_debae1c8ec9dfd7d35c9cbba87d8dee8.csv\")"
      ],
      "metadata": {
        "colab": {
          "base_uri": "https://localhost:8080/"
        },
        "id": "jHjmYR1VBMo-",
        "outputId": "4533fbd0-8cf9-480b-b2b4-cac0ee3d244a"
      },
      "execution_count": 65,
      "outputs": [
        {
          "output_type": "stream",
          "name": "stdout",
          "text": [
            "gender\n",
            "mode F\n",
            "F    383\n",
            "M    266\n",
            "Name: gender, dtype: int64\n",
            "\n",
            "age\n",
            "mode      17.000000\n",
            "mean      16.744222\n",
            "std        1.218138\n",
            "min       15.000000\n",
            "25%       16.000000\n",
            "median    17.000000\n",
            "75%       18.000000\n",
            "max       22.000000\n",
            "Name: age, dtype: float64\n",
            "\n",
            "health_rating\n",
            "mode 5\n",
            "median 4.0\n",
            "1     90\n",
            "2     78\n",
            "3    124\n",
            "4    108\n",
            "5    249\n",
            "Name: health_rating, dtype: int64\n",
            "\n",
            "StudentIQ\n",
            "mode      104.000000\n",
            "mean      100.229584\n",
            "std        10.256494\n",
            "min        75.000000\n",
            "25%        93.000000\n",
            "median    101.000000\n",
            "75%       107.000000\n",
            "max       131.000000\n",
            "Name: StudentIQ, dtype: float64\n",
            "\n",
            "no_of_courses\n",
            "mode      17.000000\n",
            "mean      10.596302\n",
            "std        5.714697\n",
            "min        1.000000\n",
            "25%        5.000000\n",
            "median    11.000000\n",
            "75%       16.000000\n",
            "max       20.000000\n",
            "Name: no_of_courses, dtype: float64\n",
            "\n",
            "Marks\n",
            "mode      52.810000\n",
            "mean      75.137257\n",
            "std       14.559722\n",
            "min       50.120000\n",
            "25%       62.560000\n",
            "median    75.120000\n",
            "75%       87.670000\n",
            "max       99.860000\n",
            "Name: Marks, dtype: float64\n",
            "\n"
          ]
        }
      ]
    },
    {
      "cell_type": "markdown",
      "metadata": {
        "id": "fOgH_n7Rt03z"
      },
      "source": [
        "    Output must be some what similar to this:\n",
        "\n",
        "    gender\n",
        "    mode F\n",
        "    F    383\n",
        "    M    266\n",
        "    Name: gender, dtype: int64 \n",
        "\n",
        "    age\n",
        "    mode      17.000000\n",
        "    mean      16.744222\n",
        "    std        1.218138\n",
        "    min       15.000000\n",
        "    25%       16.000000\n",
        "    median    17.000000\n",
        "    75%       18.000000\n",
        "    max       22.000000\n",
        "    Name: age, dtype: float64 \n",
        "\n",
        "    health_rating\n",
        "    mode   5\n",
        "    median 4\n",
        "    1     90\n",
        "    2     78\n",
        "    3    124\n",
        "    4    108\n",
        "    5    249\n",
        "    Name: health_rating, dtype: int64 \n",
        "\n",
        "    StudentIQ\n",
        "    mode     104.000000\n",
        "    mean     100.229584\n",
        "    std       10.256494\n",
        "    min       75.000000\n",
        "    25%       93.000000\n",
        "    median   101.000000\n",
        "    75%      107.000000\n",
        "    max      131.000000\n",
        "    Name: StudentIQ, dtype: float64 \n",
        "\n",
        "    no_of_courses\n",
        "    mode      17.000000\n",
        "    count    649.000000\n",
        "    mean      10.596302\n",
        "    std        5.714697\n",
        "    min        1.000000\n",
        "    25%        5.000000\n",
        "    median    11.000000\n",
        "    75%       16.000000\n",
        "    max       20.000000\n",
        "    Name: no_of_courses, dtype: float64 \n",
        "\n",
        "    Marks\n",
        "    mode      52.810000\n",
        "    count    649.000000\n",
        "    mean      75.137257\n",
        "    std       14.559722\n",
        "    min       50.120000\n",
        "    25%       62.560000\n",
        "    median    75.120000\n",
        "    75%       87.670000\n",
        "    max       99.860000\n",
        "    Name: Marks, dtype: float64 "
      ]
    },
    {
      "cell_type": "markdown",
      "metadata": {
        "id": "cxQdzkKlt030"
      },
      "source": [
        "### 4. Can we use a box plot for visualizing ordinal data ? (Yes/No). Explain why.\n",
        "![MicrosoftTeams-image2.png](attachment:MicrosoftTeams-image2.png)"
      ]
    },
    {
      "cell_type": "markdown",
      "metadata": {
        "id": "7L7zAQcPt031"
      },
      "source": [
        "**No**, because Box plots are ways for summarizing data on an interval scale, as they are useful for showing the distribution, quartiles and variability of the data. Since ordinal data doesn't support addition/subtraction, it can't have interval nature and thus there is no sense of variablility or mean in such data. Thus, boxplot is mainly used for numerical data, which is of interval scale"
      ]
    },
    {
      "cell_type": "markdown",
      "metadata": {
        "id": "loDDMaOCt031"
      },
      "source": [
        "###   5.  Write a python code to visualize the data (a generalized method depending on data scale) "
      ]
    },
    {
      "cell_type": "code",
      "execution_count": 68,
      "metadata": {
        "id": "hfOs9rYTt032"
      },
      "outputs": [],
      "source": [
        "def visualize_data(filename):\n",
        "        ## Write a well commented function that can call any of the functions from above \n",
        "        ## to plot relevant plots\n",
        "        ## Hint: Use sns.distplot, sns.countplot. Make a new figure for each plot (plt.figure(i))\n",
        "    \n",
        "    \"\"\"Visualizes attribute data based on detected data_scale.\n",
        "\n",
        "    Args:\n",
        "        filename (str): path of file for which data stats are needed\n",
        "    \"\"\"\n",
        "    data_scale, data_value , data = data_description(filename, isprint=False) # Get data description, supress output\n",
        "\n",
        "    for attribute in data.columns:\n",
        "        plt.figure() # Create a new figure for each attribute's plot.\n",
        "        plt.title(f'Data Attribute: {attribute}')\n",
        "        if data_scale[attribute] in {'nominal', 'ordinal'}:\n",
        "            sns.countplot(data[attribute]) # Count plot for nominal and ordinal data\n",
        "        else:\n",
        "            sns.distplot(data[attribute]) # Distplot for ratio data. # can also disable kde fit for discrete\n",
        "    plt.show() # Display all plots\n",
        "    return\n",
        "        "
      ]
    },
    {
      "cell_type": "code",
      "source": [
        "visualize_data(\"/content/drive/MyDrive/ME781/Assignment-2/A2_example_dataset - students_demo_debae1c8ec9dfd7d35c9cbba87d8dee8.csv\")"
      ],
      "metadata": {
        "colab": {
          "base_uri": "https://localhost:8080/",
          "height": 1000
        },
        "id": "XGHQu8EXIBQZ",
        "outputId": "438bf02b-094b-4d0a-92bf-c3bcaacc8150"
      },
      "execution_count": 69,
      "outputs": [
        {
          "output_type": "stream",
          "name": "stderr",
          "text": [
            "/usr/local/lib/python3.7/dist-packages/seaborn/_decorators.py:43: FutureWarning: Pass the following variable as a keyword arg: x. From version 0.12, the only valid positional argument will be `data`, and passing other arguments without an explicit keyword will result in an error or misinterpretation.\n",
            "  FutureWarning\n",
            "/usr/local/lib/python3.7/dist-packages/seaborn/distributions.py:2619: FutureWarning: `distplot` is a deprecated function and will be removed in a future version. Please adapt your code to use either `displot` (a figure-level function with similar flexibility) or `histplot` (an axes-level function for histograms).\n",
            "  warnings.warn(msg, FutureWarning)\n",
            "/usr/local/lib/python3.7/dist-packages/seaborn/_decorators.py:43: FutureWarning: Pass the following variable as a keyword arg: x. From version 0.12, the only valid positional argument will be `data`, and passing other arguments without an explicit keyword will result in an error or misinterpretation.\n",
            "  FutureWarning\n",
            "/usr/local/lib/python3.7/dist-packages/seaborn/distributions.py:2619: FutureWarning: `distplot` is a deprecated function and will be removed in a future version. Please adapt your code to use either `displot` (a figure-level function with similar flexibility) or `histplot` (an axes-level function for histograms).\n",
            "  warnings.warn(msg, FutureWarning)\n",
            "/usr/local/lib/python3.7/dist-packages/seaborn/distributions.py:2619: FutureWarning: `distplot` is a deprecated function and will be removed in a future version. Please adapt your code to use either `displot` (a figure-level function with similar flexibility) or `histplot` (an axes-level function for histograms).\n",
            "  warnings.warn(msg, FutureWarning)\n",
            "/usr/local/lib/python3.7/dist-packages/seaborn/distributions.py:2619: FutureWarning: `distplot` is a deprecated function and will be removed in a future version. Please adapt your code to use either `displot` (a figure-level function with similar flexibility) or `histplot` (an axes-level function for histograms).\n",
            "  warnings.warn(msg, FutureWarning)\n"
          ]
        },
        {
          "output_type": "display_data",
          "data": {
            "text/plain": [
              "<Figure size 432x288 with 1 Axes>"
            ],
            "image/png": "[encoded data removed]"
          },
          "metadata": {
            "needs_background": "light"
          }
        },
        {
          "output_type": "display_data",
          "data": {
            "text/plain": [
              "<Figure size 432x288 with 1 Axes>"
            ],
            "image/png": "[encoded data removed]"
          },
          "metadata": {
            "needs_background": "light"
          }
        },
        {
          "output_type": "display_data",
          "data": {
            "text/plain": [
              "<Figure size 432x288 with 1 Axes>"
            ],
            "image/png": "[encoded data removed]"
          },
          "metadata": {
            "needs_background": "light"
          }
        },
        {
          "output_type": "display_data",
          "data": {
            "text/plain": [
              "<Figure size 432x288 with 1 Axes>"
            ],
            "image/png": "[encoded data removed]"
          },
          "metadata": {
            "needs_background": "light"
          }
        },
        {
          "output_type": "display_data",
          "data": {
            "text/plain": [
              "<Figure size 432x288 with 1 Axes>"
            ],
            "image/png": "[encoded data removed]"
          },
          "metadata": {
            "needs_background": "light"
          }
        },
        {
          "output_type": "display_data",
          "data": {
            "text/plain": [
              "<Figure size 432x288 with 1 Axes>"
            ],
            "image/png": "[encoded data removed]"
          },
          "metadata": {
            "needs_background": "light"
          }
        }
      ]
    },
    {
      "cell_type": "code",
      "source": [],
      "metadata": {
        "id": "LtCO4KWbKhdH"
      },
      "execution_count": null,
      "outputs": []
    }
  ],
  "metadata": {
    "celltoolbar": "Raw Cell Format",
    "kernelspec": {
      "display_name": "Python 3",
      "language": "python",
      "name": "python3"
    },
    "language_info": {
      "codemirror_mode": {
        "name": "ipython",
        "version": 3
      },
      "file_extension": ".py",
      "mimetype": "text/x-python",
      "name": "python",
      "nbconvert_exporter": "python",
      "pygments_lexer": "ipython3",
      "version": "3.7.1"
    },
    "colab": {
      "provenance": []
    }
  },
  "nbformat": 4,
  "nbformat_minor": 0
}
